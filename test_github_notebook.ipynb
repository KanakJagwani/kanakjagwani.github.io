{
 "cells": [
  {
   "cell_type": "code",
   "execution_count": 3,
   "id": "3fc084cb",
   "metadata": {},
   "outputs": [],
   "source": [
    "#Welcome to my repository"
   ]
  },
  {
   "cell_type": "code",
   "execution_count": 4,
   "id": "9e52d80a",
   "metadata": {},
   "outputs": [],
   "source": [
    "import pandas as pd"
   ]
  },
  {
   "cell_type": "code",
   "execution_count": 5,
   "id": "51dcec54",
   "metadata": {},
   "outputs": [],
   "source": [
    "data= {'cars': [\"Audi\", \"Tesla\",\"BMW\", \"Ford\", \"Ferrari\"]}"
   ]
  },
  {
   "cell_type": "code",
   "execution_count": 8,
   "id": "d43324e0",
   "metadata": {},
   "outputs": [],
   "source": [
    "b= [1,2,3]"
   ]
  },
  {
   "cell_type": "code",
   "execution_count": 10,
   "id": "9c1f752f",
   "metadata": {},
   "outputs": [
    {
     "name": "stdout",
     "output_type": "stream",
     "text": [
      "{'cars': ['Audi', 'Tesla', 'BMW', 'Ford', 'Ferrari']}\n"
     ]
    }
   ],
   "source": [
    "print(data)"
   ]
  },
  {
   "cell_type": "code",
   "execution_count": 11,
   "id": "2ecd4b94",
   "metadata": {},
   "outputs": [
    {
     "name": "stdout",
     "output_type": "stream",
     "text": [
      "[1, 2, 3]\n"
     ]
    }
   ],
   "source": [
    "print(b)"
   ]
  },
  {
   "cell_type": "code",
   "execution_count": null,
   "id": "a9bae281",
   "metadata": {},
   "outputs": [],
   "source": []
  }
 ],
 "metadata": {
  "kernelspec": {
   "display_name": "Python 3",
   "language": "python",
   "name": "python3"
  },
  "language_info": {
   "codemirror_mode": {
    "name": "ipython",
    "version": 3
   },
   "file_extension": ".py",
   "mimetype": "text/x-python",
   "name": "python",
   "nbconvert_exporter": "python",
   "pygments_lexer": "ipython3",
   "version": "3.8.8"
  }
 },
 "nbformat": 4,
 "nbformat_minor": 5
}
